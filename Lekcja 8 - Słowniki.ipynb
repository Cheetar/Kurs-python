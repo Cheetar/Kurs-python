{
 "cells": [
  {
   "cell_type": "markdown",
   "metadata": {},
   "source": [
    "# Słowniki"
   ]
  },
  {
   "cell_type": "markdown",
   "metadata": {},
   "source": [
    "#### Umówić, co to jest mapa.\n",
    "Mapuje jedne elementy na inne, np. mapuje osobę w jej numer telefonu\n",
    "\n",
    "Adam -> 123456789\n",
    "\n",
    "Basia -> 987654321\n",
    "\n",
    "Celina -> 123123123"
   ]
  },
  {
   "cell_type": "markdown",
   "metadata": {},
   "source": [
    "#### Słownik  w Pythonie\n",
    "\n",
    "Pythonowy słownik jest odpowiednikiem mapy z innych języków programowania. Każdy rekord w słowniku jest postaci klucz => wartość. Pokazać:\n",
    "* Jak się tworzy pusty słownik\n",
    "* Jak dodać element do słownika\n",
    "* Jak usunąć element ze słownika\n",
    "* Jak odwoływać się do słownika\n",
    "* Jak wyświetlić słownik za pomocą printa"
   ]
  },
  {
   "cell_type": "markdown",
   "metadata": {},
   "source": [
    "## Zadanie 1\n",
    "Stwórz siedmioelementowy słownik z imienia osoby w jej ulubiony kwiat. Niech w tym słowniku istnieją dwie osoby o tym samym ulubionym kwiecie."
   ]
  },
  {
   "cell_type": "markdown",
   "metadata": {},
   "source": [
    "## Zadanie 2\n",
    "Stwórz słownik, który dla każdej liczby z przedziału od 1 do 10 będzie ją mapował na jej kwadrat. Następnie wyświelić, jaki jest kwadrat liczby 7."
   ]
  },
  {
   "cell_type": "markdown",
   "metadata": {},
   "source": [
    "## Zadanie 3\n",
    "Stwórz słownik, który dla każdej liczby z przedziału od 1 do 1000 będzie ją mapował na jej kwadrat. (należy użyć pętli)"
   ]
  },
  {
   "cell_type": "markdown",
   "metadata": {},
   "source": [
    "#### Różne typy w słowniku\n",
    "\n",
    "W słowniku można przechowywać różne typy"
   ]
  },
  {
   "cell_type": "code",
   "execution_count": 15,
   "metadata": {
    "collapsed": false
   },
   "outputs": [
    {
     "name": "stdout",
     "output_type": "stream",
     "text": [
      "{'Celina': datetime.date(2019, 4, 5), 'Basia': 152, 'Ania': 'wtorek'}\n"
     ]
    }
   ],
   "source": [
    "ulubiony_dzien = {}\n",
    "ulubiony_dzien[\"Ania\"] = \"wtorek\"\n",
    "# Ulubiony dzień Basi to 152-gi dzien w roku\n",
    "ulubiony_dzien[\"Basia\"] = 152\n",
    "\n",
    "# Nie jest istotne, czym jest ten obiekt. Ważne jest, że słownik może mapować na cokolwiek.\n",
    "import datetime\n",
    "ulubiony_dzien[\"Celina\"] = datetime.date.today()\n",
    "\n",
    "print ulubiony_dzien"
   ]
  },
  {
   "cell_type": "markdown",
   "metadata": {},
   "source": [
    "#### Operacje na słownikach\n",
    "Pokazać:\n",
    "* Jak sprawdzić, czy istnieje rekord o podanym kluczu w słowniku\n",
    "* Jak przeiterować po słowniku"
   ]
  },
  {
   "cell_type": "markdown",
   "metadata": {},
   "source": [
    "## Zadanie 4\n",
    "Stwórz słownik, który dla każdej liczby całkowitej n z przedziału od 1 do 100 będzie ją mapował na dowolny string o długości n"
   ]
  },
  {
   "cell_type": "markdown",
   "metadata": {},
   "source": [
    "## Zadanie 5\n",
    "Usuń ze słownika z zadania 4 te rekordy, których kluczem jest liczba podzielna przez 5 bądź podzielna przez 7."
   ]
  },
  {
   "cell_type": "code",
   "execution_count": null,
   "metadata": {
    "collapsed": true
   },
   "outputs": [],
   "source": []
  }
 ],
 "metadata": {
  "kernelspec": {
   "display_name": "Python 2",
   "language": "python",
   "name": "python2"
  },
  "language_info": {
   "codemirror_mode": {
    "name": "ipython",
    "version": 2
   },
   "file_extension": ".py",
   "mimetype": "text/x-python",
   "name": "python",
   "nbconvert_exporter": "python",
   "pygments_lexer": "ipython2",
   "version": "2.7.12"
  }
 },
 "nbformat": 4,
 "nbformat_minor": 2
}
